{
 "cells": [
  {
   "cell_type": "code",
   "execution_count": 1,
   "metadata": {},
   "outputs": [],
   "source": [
    "import PyPDF2\n"
   ]
  },
  {
   "cell_type": "code",
   "execution_count": 11,
   "metadata": {},
   "outputs": [],
   "source": [
    "\n",
    "def select_specific_pages(input_pdf, output_pdf, page_numbers):\n",
    "    # Open the input PDF file\n",
    "    with open(input_pdf, 'rb') as input_file:\n",
    "        pdf_reader = PyPDF2.PdfReader(input_file)\n",
    "        \n",
    "        # Create a PDF writer object\n",
    "        pdf_writer = PyPDF2.PdfWriter()\n",
    "\n",
    "        # Select specific pages\n",
    "        for page_num in page_numbers:\n",
    "            page = pdf_reader.pages[page_num - 1]  # Page numbers start from 0\n",
    "            pdf_writer.add_page(page)\n",
    "\n",
    "        # Write the selected pages to the output PDF file\n",
    "        with open(output_pdf, 'wb') as output_file:\n",
    "            pdf_writer.write(output_file)\n",
    "\n",
    "# Example usage:\n",
    "input_pdf = 'combinepdf.pdf'  # Path to the input PDF file\n",
    "output_pdf = 'APS 2024 talk.pdf'  # Path to the output PDF file\n",
    "page_numbers = [1,3,4,6,7,14,15,16,17,18,32,33,\n",
    "                34,20,21,22,23,24,25,26,27,28,29,30,31\n",
    "                ]  # List of page numbers to select\n",
    "\n",
    "select_specific_pages(input_pdf, output_pdf, page_numbers)\n"
   ]
  },
  {
   "cell_type": "code",
   "execution_count": null,
   "metadata": {},
   "outputs": [],
   "source": []
  }
 ],
 "metadata": {
  "kernelspec": {
   "display_name": "Python 3",
   "language": "python",
   "name": "python3"
  },
  "language_info": {
   "codemirror_mode": {
    "name": "ipython",
    "version": 3
   },
   "file_extension": ".py",
   "mimetype": "text/x-python",
   "name": "python",
   "nbconvert_exporter": "python",
   "pygments_lexer": "ipython3",
   "version": "3.10.12"
  }
 },
 "nbformat": 4,
 "nbformat_minor": 2
}
